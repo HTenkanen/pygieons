{
 "cells": [
  {
   "cell_type": "markdown",
   "id": "4b733923-e70a-46f4-b621-02cf46d0f997",
   "metadata": {
    "pycharm": {
     "name": "#%% md\n"
    }
   },
   "source": [
    "# Python GIS ecosystem"
   ]
  },
  {
   "cell_type": "code",
   "execution_count": null,
   "id": "51e92dfa-6334-4809-8cd0-1b9322897926",
   "metadata": {
    "pycharm": {
     "name": "#%%\n"
    },
    "tags": [
     "full-width",
     "hide-input"
    ]
   },
   "outputs": [],
   "source": [
    "from pygieons import Ecosystem\n",
    "\n",
    "# Initialize\n",
    "e = Ecosystem(log=False)\n",
    "net = e.prepare_net()\n",
    "net.show()"
   ]
  }
 ],
 "metadata": {
  "execution": {
   "timeout": 360
  },
  "kernelspec": {
   "display_name": "Python 3 (ipykernel)",
   "language": "python",
   "name": "python3"
  },
  "language_info": {
   "codemirror_mode": {
    "name": "ipython",
    "version": 3
   },
   "file_extension": ".py",
   "mimetype": "text/x-python",
   "name": "python",
   "nbconvert_exporter": "python",
   "pygments_lexer": "ipython3",
   "version": "3.9.7"
  }
 },
 "nbformat": 4,
 "nbformat_minor": 5
}